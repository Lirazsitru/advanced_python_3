{
 "cells": [
  {
   "cell_type": "code",
   "execution_count": 1,
   "id": "9b619eea-c7fb-47ed-982a-4bb637a94ecf",
   "metadata": {},
   "outputs": [],
   "source": [
    "#!pip install pandas\n",
    "#!pip install requests"
   ]
  },
  {
   "cell_type": "code",
   "execution_count": 5,
   "id": "3b12b072-cd8d-4e5e-b208-14516f358edb",
   "metadata": {},
   "outputs": [],
   "source": [
    "import pandas as pd\n",
    "import requests"
   ]
  },
  {
   "cell_type": "code",
   "execution_count": 6,
   "id": "510489bc-64dc-4eea-8edf-34ecc5c30aea",
   "metadata": {},
   "outputs": [
    {
     "name": "stdout",
     "output_type": "stream",
     "text": [
      "      Target  Distance_km          Duration  Longitude   Latitude\n",
      "0   Istanbul       1815.0   21 hours 3 mins  28.978359  41.008238\n",
      "1  Amsterdam       4533.0    2 days 0 hours   4.904139  52.367573\n",
      "2   Valletta       3793.0    2 days 3 hours  14.514100  35.899237\n",
      "3      Basel       4093.0    1 day 20 hours   7.588576  47.559599\n",
      "4       Doha       2164.0  22 hours 39 mins  51.531040  25.285447\n"
     ]
    }
   ],
   "source": [
    "text_file = 'dests.txt'\n",
    "df = pd.DataFrame(columns=['Target', 'Distance_km', 'Duration', 'Longitude', 'Latitude'])\n",
    "\n",
    "api_key = ' ' #my API code - I removed it before i uploaded it to github'\n",
    "\n",
    "with open(text_file, 'r') as file:\n",
    "    for destination in file:\n",
    "        destination = destination.strip()\n",
    "\n",
    "        #distance matrix - get the distance between the city of Tel Aviv and the destination in kilometers\n",
    "        distance_matrix = 'https://maps.googleapis.com/maps/api/distancematrix/json?origins=Tel+Aviv&destinations=' + destination + '&key=' + api_key\n",
    "        \n",
    "        #geocode - The longitude and latitude of the target \n",
    "        geocode = 'https://maps.googleapis.com/maps/api/geocode/json?address=' + destination + '&key=' + api_key\n",
    "\n",
    "        try:\n",
    "            \n",
    "            distance_data = requests.get(distance_matrix).json()\n",
    "            distance = distance_data['rows'][0]['elements'][0]['distance']['text']\n",
    "            \n",
    "            #The time it takes to reach the destination in minutes\n",
    "            duration = distance_data['rows'][0]['elements'][0]['duration']['text']\n",
    "\n",
    "            geocode_data = requests.get(geocode).json()\n",
    "            longitude = geocode_data['results'][0]['geometry']['location']['lng']\n",
    "            latitude = geocode_data['results'][0]['geometry']['location']['lat']\n",
    "\n",
    "            #converts the distance from a string to a number\n",
    "            distance = float(distance.replace(',', '').replace(' km', ''))\n",
    "\n",
    "            df = pd.concat(\n",
    "                [df, pd.DataFrame({'Target': [destination],'Distance_km': [distance],\n",
    "                'Duration': [duration],'Longitude': [longitude],'Latitude': [latitude]})\n",
    "                ],ignore_index=True)\n",
    "\n",
    "        except Exception as e:\n",
    "            print(\"Error occurred for destination: {}\".format(destination))\n",
    "            print(e)\n",
    "\n",
    "print(df)\n"
   ]
  },
  {
   "cell_type": "code",
   "execution_count": 7,
   "id": "6b912cb0-82c0-4411-9b0f-d4199386979d",
   "metadata": {},
   "outputs": [
    {
     "name": "stdout",
     "output_type": "stream",
     "text": [
      "      Target  Distance_km        Duration  Longitude   Latitude\n",
      "1  Amsterdam       4533.0  2 days 0 hours   4.904139  52.367573\n",
      "3      Basel       4093.0  1 day 20 hours   7.588576  47.559599\n",
      "2   Valletta       3793.0  2 days 3 hours  14.514100  35.899237\n"
     ]
    }
   ],
   "source": [
    "furthest_cities = df.nlargest(3, 'Distance_km')\n",
    "print(furthest_cities)"
   ]
  }
 ],
 "metadata": {
  "kernelspec": {
   "display_name": "Python 3 (ipykernel)",
   "language": "python",
   "name": "python3"
  },
  "language_info": {
   "codemirror_mode": {
    "name": "ipython",
    "version": 3
   },
   "file_extension": ".py",
   "mimetype": "text/x-python",
   "name": "python",
   "nbconvert_exporter": "python",
   "pygments_lexer": "ipython3",
   "version": "3.9.13"
  }
 },
 "nbformat": 4,
 "nbformat_minor": 5
}
